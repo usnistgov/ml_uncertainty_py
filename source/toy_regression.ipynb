{
 "cells": [
  {
   "cell_type": "raw",
   "metadata": {
    "raw_mimetype": "text/restructuredtext"
   },
   "source": [
    "Example toy problem\n",
    "*******************\n",
    "\n",
    "This is a toy problem meant to demonstrate how one would use the ML Uncertainty toolbox. The problem being solved is a linear regression problem and has an uncertainty that can already be calculated analytically.\n",
    "\n",
    "Imports\n",
    "======="
   ]
  },
  {
   "cell_type": "code",
   "execution_count": 1,
   "metadata": {
    "ExecuteTime": {
     "end_time": "2019-05-17T18:48:02.825478Z",
     "start_time": "2019-05-17T18:48:02.202469Z"
    }
   },
   "outputs": [],
   "source": [
    "%matplotlib inline\n",
    "import scipy as sp\n",
    "import matplotlib.pyplot as plt\n",
    "import numpy as np\n",
    "import sklearn.linear_model as sklm\n",
    "import sklearn.model_selection as skcv\n",
    "import ml_uncertainty as plu"
   ]
  },
  {
   "cell_type": "raw",
   "metadata": {
    "raw_mimetype": "text/restructuredtext"
   },
   "source": [
    "Data and Metadata\n",
    "=================\n",
    "\n",
    "Data for the toy problem\n",
    "------------------------\n",
    "\n",
    "Here's some X data"
   ]
  },
  {
   "cell_type": "code",
   "execution_count": 2,
   "metadata": {
    "ExecuteTime": {
     "end_time": "2019-05-17T18:48:02.838808Z",
     "start_time": "2019-05-17T18:48:02.827783Z"
    }
   },
   "outputs": [],
   "source": [
    "xdata = np.array([[4.00],\n",
    "[4.20],\n",
    "[4.30],\n",
    "[4.47],\n",
    "[4.58],\n",
    "[4.60],\n",
    "[4.61],\n",
    "[4.82],\n",
    "[5.05],\n",
    "[5.24],\n",
    "[5.43],\n",
    "[5.58],\n",
    "[5.82],\n",
    "[5.91],\n",
    "[5.92],\n",
    "[6.03],\n",
    "[6.32],\n",
    "[6.45],\n",
    "[6.67],\n",
    "[6.68],\n",
    "[6.91],\n",
    "[7.04],\n",
    "[7.09],\n",
    "[7.35],\n",
    "[7.49],\n",
    "[7.62],\n",
    "[7.81],\n",
    "[7.94]])\n"
   ]
  },
  {
   "cell_type": "raw",
   "metadata": {
    "raw_mimetype": "text/restructuredtext"
   },
   "source": [
    "Here's some Y data"
   ]
  },
  {
   "cell_type": "code",
   "execution_count": 3,
   "metadata": {
    "ExecuteTime": {
     "end_time": "2019-05-17T18:48:02.952512Z",
     "start_time": "2019-05-17T18:48:02.841056Z"
    }
   },
   "outputs": [],
   "source": [
    "yfull = np.array([[3.70,3.53,4.12,5.03,],\n",
    "[2.96,4.69,6.44,7.36,],\n",
    "[4.69,3.68,5.86,5.70,],\n",
    "[4.28,4.22,5.32,6.33,],\n",
    "[4.86,5.27,5.61,5.57,],\n",
    "[4.77,4.61,5.38,4.91,],\n",
    "[4.74,4.45,6.34,5.71,],\n",
    "[4.76,4.40,6.51,5.62,],\n",
    "[5.01,5.52,5.85,6.92,],\n",
    "[5.59,5.81,5.86,7.98,],\n",
    "[5.17,4.67,5.58,8.38,],\n",
    "[6.02,6.04,5.70,6.87,],\n",
    "[6.68,5.94,5.78,8.10,],\n",
    "[6.91,5.97,5.68,7.80,],\n",
    "[6.14,5.74,6.30,7.65,],\n",
    "[5.67,5.78,4.97,8.98,],\n",
    "[6.89,6.41,6.40,8.08,],\n",
    "[6.57,6.46,6.44,8.43,],\n",
    "[7.34,6.31,6.14,8.55,],\n",
    "[6.62,5.98,5.78,9.17,],\n",
    "[7.22,6.59,5.99,8.95,],\n",
    "[8.05,6.85,6.78,10.92,],\n",
    "[7.11,7.29,6.19,9.74,],\n",
    "[6.43,7.40,6.45,9.39,],\n",
    "[7.02,7.14,7.34,10.13,],\n",
    "[7.27,7.37,6.12,10.04,],\n",
    "[7.29,7.07,5.65,10.91,],\n",
    "[8.29,8.39,6.57,11.78,]])\n",
    "\n",
    "ydata = yfull[:,0]"
   ]
  },
  {
   "cell_type": "raw",
   "metadata": {
    "raw_mimetype": "text/restructuredtext"
   },
   "source": [
    "Sklearn models\n",
    "--------------\n",
    "\n",
    "Make some sklearn models that we'll use for regression."
   ]
  },
  {
   "cell_type": "code",
   "execution_count": 4,
   "metadata": {
    "ExecuteTime": {
     "end_time": "2019-05-17T18:48:03.047408Z",
     "start_time": "2019-05-17T18:48:02.956026Z"
    }
   },
   "outputs": [],
   "source": [
    "regr = sklm.LinearRegression()\n",
    "cv = skcv.KFold(n_splits=6,shuffle=True)"
   ]
  },
  {
   "cell_type": "raw",
   "metadata": {
    "raw_mimetype": "text/restructuredtext"
   },
   "source": [
    "Regression\n",
    "==========\n",
    "\n",
    "Recall the generic for for the linear regression problem and the way to calculate the coefficients. Here, `Y` is the array of dependent variable measurements and `X` is the array of independent variable measurements. To account for the constant term, `X` must be prepended by a column consisting of all ones."
   ]
  },
  {
   "cell_type": "markdown",
   "metadata": {},
   "source": [
    "$$Y = X\\beta$$\n",
    "$$\\beta = (X^TX)^{-1}X^TY$$"
   ]
  },
  {
   "cell_type": "code",
   "execution_count": 5,
   "metadata": {
    "ExecuteTime": {
     "end_time": "2019-05-17T18:48:03.144685Z",
     "start_time": "2019-05-17T18:48:03.050775Z"
    }
   },
   "outputs": [],
   "source": [
    "regr.fit(xdata,ydata)\n",
    "ypred = regr.predict(xdata)\n",
    "y_cv = skcv.cross_val_predict(regr,xdata,y=ydata,cv=cv)\n"
   ]
  },
  {
   "cell_type": "code",
   "execution_count": 6,
   "metadata": {
    "ExecuteTime": {
     "end_time": "2019-05-17T18:48:03.322898Z",
     "start_time": "2019-05-17T18:48:03.148437Z"
    }
   },
   "outputs": [
    {
     "data": {
      "image/png": "[encoded data removed]",
      "text/plain": [
       "<Figure size 432x288 with 1 Axes>"
      ]
     },
     "metadata": {},
     "output_type": "display_data"
    }
   ],
   "source": [
    "#with plt.xkcd():\n",
    "fig,ax = plt.subplots(1,1)\n",
    "\n",
    "p1 = plt.scatter(xdata,ydata,color='k',label='Measurement')\n",
    "p2 = plt.plot(xdata,ypred,color='r',lw=2,label='Regression')\n",
    "p3 = plt.plot(xdata,xdata,color='k',ls='--',label='Underlying truth')\n",
    "\n",
    "handles, labels = ax.get_legend_handles_labels()\n",
    "\n",
    "plt.legend([handles[i] for i in [2,0,1]],[labels[i] for i in [2,0,1]])\n",
    "ax.set_xlabel('The X values',size=15)\n",
    "ax.set_ylabel('The Y values',size=15)\n",
    "ax.set_xticks([])\n",
    "ax.set_yticks([])\n",
    "ax.spines['right'].set_visible(False)\n",
    "ax.spines['top'].set_visible(False)\n",
    "ax.set_ylabel\n",
    "\n",
    "t = 1"
   ]
  },
  {
   "cell_type": "raw",
   "metadata": {
    "raw_mimetype": "text/restructuredtext"
   },
   "source": [
    "Uncertainty Calculation\n",
    "=======================\n",
    "\n",
    "Traditional uncertainty calculation\n",
    "-----------------------------------\n",
    "\n",
    "This is the equation for the 95% confidence interval for a new prediction :math:`X_{new}` (in linear regression)."
   ]
  },
  {
   "cell_type": "markdown",
   "metadata": {},
   "source": [
    "$$ Y_{new} = X_{new}\\beta + \\epsilon$$\n",
    "\n",
    "$$ \\delta Y_{new} = t(0.95,n-2)\\Bigg\\{\n",
    "                          \\frac{Y^TY-\\beta^TX^TY}{n-2}\\Bigg[X_{new}(X^TX)^{-1}X_{new}^T+1\\Bigg]\n",
    "                          \\Bigg\\}^{1/2}$$"
   ]
  },
  {
   "cell_type": "raw",
   "metadata": {
    "raw_mimetype": "text/restructuredtext"
   },
   "source": [
    "Here, :math:`t` is the 95th percentile of the one-sided Student's T distribution with :math:`n` - 2 degrees of freedom, with :math:`n` being the number of samples in the regression (i.e. number of rows of :math:`X`). \n",
    "\n",
    "Calculate the values for the :math:`t` distribution and the SSE term."
   ]
  },
  {
   "cell_type": "code",
   "execution_count": 7,
   "metadata": {
    "ExecuteTime": {
     "end_time": "2019-05-17T18:48:03.340004Z",
     "start_time": "2019-05-17T18:48:03.325129Z"
    }
   },
   "outputs": [],
   "source": [
    "#Create the linear regression X matrix\n",
    "xmatrix_first = np.ones_like(xdata) #Constant term\n",
    "xmatrix = np.concatenate((xmatrix_first,xdata),axis=1) #Add in the linear term\n",
    "\n",
    "cov = np.dot(xmatrix.T,xmatrix) #Covariance matrix\n",
    "icov = np.linalg.inv(cov) #Inverse covariance matrix\n",
    "xty = np.dot(xmatrix.T,ydata[:,np.newaxis,]) #XTy\n",
    "\n",
    "beta = np.dot(icov,xty) #Coefficients\n",
    "\n",
    "dof = len(xmatrix_first) - 2 #Degrees of freedom\n",
    "tdist = sp.stats.t(dof) #T distribution\n",
    "#T premultiplier, only one standard deviation because n is large. Squared because of how pred_unc is defined below\n",
    "tmult = tdist.ppf(0.95) ** 2 \n",
    "\n",
    "sse = (np.dot(ydata.T,ydata) - np.dot(ypred.T,ydata))/(dof) #mean squared error\n",
    "\n",
    "var_premult = tmult * sse "
   ]
  },
  {
   "cell_type": "raw",
   "metadata": {
    "raw_mimetype": "text/restructuredtext"
   },
   "source": [
    "Calculate the uncertainty in the predicted values"
   ]
  },
  {
   "cell_type": "code",
   "execution_count": 8,
   "metadata": {
    "ExecuteTime": {
     "end_time": "2019-05-17T18:48:03.494531Z",
     "start_time": "2019-05-17T18:48:03.341867Z"
    },
    "scrolled": false
   },
   "outputs": [
    {
     "data": {
      "image/png": "[encoded data removed]",
      "text/plain": [
       "<Figure size 432x288 with 1 Axes>"
      ]
     },
     "metadata": {},
     "output_type": "display_data"
    }
   ],
   "source": [
    "yl = []\n",
    "yu = []\n",
    "for row in xmatrix:\n",
    "\n",
    "    yp = np.dot(row,beta)\n",
    "    pred_unc = np.sqrt(var_premult*(np.dot(np.dot(row,icov),row.T)))\n",
    "\n",
    "    yl += [yp - pred_unc]\n",
    "    yu += [yp + pred_unc]\n",
    "\n",
    "    #print(pred)\n",
    "\n",
    "    #print(pred,pred_lower,pred_upper)\n",
    "lower = np.concatenate(yl)\n",
    "upper = np.concatenate(yu)\n",
    "\n",
    "yunc = np.concatenate((yl,yu),axis=1)\n",
    "\n",
    "fig,ax = plt.subplots()\n",
    "\n",
    "ax.plot(xdata,ypred,color='r',label='Regression')\n",
    "ax.plot(xdata,yunc,ls=':',color='k',label='95% confidence interval')\n",
    "ax.scatter(xdata,ydata,color='k',label='Measurement')\n",
    "\n",
    "handles, labels = ax.get_legend_handles_labels()\n",
    "\n",
    "ax.legend([handles[i] for i in [3,0,1]],[labels[i] for i in [3,0,1]])\n",
    "\n",
    "ax.set_xlabel('The X values',size=15)\n",
    "ax.set_ylabel('The Y values',size=15)\n",
    "ax.set_xticks([])\n",
    "ax.set_yticks([])\n",
    "ax.spines['right'].set_visible(False)\n",
    "ax.spines['top'].set_visible(False)\n",
    "#plt.legend()"
   ]
  },
  {
   "cell_type": "raw",
   "metadata": {
    "raw_mimetype": "text/restructuredtext"
   },
   "source": [
    "Bootstrap uncertainty calculation\n",
    "---------------------------------\n",
    "\n",
    "Use the residual bootstrap of `Almeida <https://doi.org/10.1016/j.microc.2012.03.006>`_ This method assumes that the residuals are representative of the uncertainty (which is really the same assumption made by linear regression uncertainty, when you think about it).\n",
    "\n",
    "Calculate the mean squared error and the cross-validation error in the regression, then calculate the pseudo-degrees of freedom and the residual weighting that will be bootstrapped. This is a large data set and cross-validation doesnt give us much more information, so the bootstrap weighting is close to 1."
   ]
  },
  {
   "cell_type": "code",
   "execution_count": 9,
   "metadata": {
    "ExecuteTime": {
     "end_time": "2019-05-17T18:48:03.513902Z",
     "start_time": "2019-05-17T18:48:03.496358Z"
    }
   },
   "outputs": [
    {
     "name": "stdout",
     "output_type": "stream",
     "text": [
      "0.9373050564598135\n"
     ]
    }
   ],
   "source": [
    "residual,err,mse = plu.get_residual_stats(ydata,ypred)\n",
    "residual_cv,err_cv,msecv = plu.get_residual_stats(ydata,y_cv)\n",
    "\n",
    "num_train = len(xdata)\n",
    "\n",
    "pseudo_dof = num_train * (1 - np.sqrt(mse/msecv))\n",
    "bootstrap_weight = np.sqrt(1 - pseudo_dof/num_train)\n",
    "\n",
    "print(bootstrap_weight)\n",
    "\n",
    "residual_weighted = residual / bootstrap_weight"
   ]
  },
  {
   "cell_type": "raw",
   "metadata": {},
   "source": [
    "As an easily demonstrated example, just do bootstraps with 5 samples.\n",
    "\n",
    "First generate the bootstrap `Y` values that will be passed to the models."
   ]
  },
  {
   "cell_type": "code",
   "execution_count": 10,
   "metadata": {
    "ExecuteTime": {
     "end_time": "2019-05-17T18:48:03.603817Z",
     "start_time": "2019-05-17T18:48:03.515757Z"
    }
   },
   "outputs": [],
   "source": [
    "samples = 5\n",
    "\n",
    "residual_boot,boot_indices = plu.bootstrap_data(residual_weighted,samples=samples)\n",
    "residual_boot = np.squeeze(residual_boot)\n",
    "\n",
    "boot_data = (residual_boot + ypred).T #boot_data now has the new Y values with shuffled residuals"
   ]
  },
  {
   "cell_type": "raw",
   "metadata": {
    "raw_mimetype": "text/restructuredtext"
   },
   "source": [
    "Create some plots, generate and plot five regressions. "
   ]
  },
  {
   "cell_type": "code",
   "execution_count": 11,
   "metadata": {
    "ExecuteTime": {
     "end_time": "2019-05-17T18:48:04.038763Z",
     "start_time": "2019-05-17T18:48:03.607045Z"
    }
   },
   "outputs": [
    {
     "data": {
      "text/plain": [
       "<matplotlib.legend.Legend at 0x7fc404a387b8>"
      ]
     },
     "execution_count": 11,
     "metadata": {},
     "output_type": "execute_result"
    },
    {
     "data": {
      "image/png": "[encoded data removed]",
      "text/plain": [
       "<Figure size 1080x216 with 5 Axes>"
      ]
     },
     "metadata": {},
     "output_type": "display_data"
    },
    {
     "data": {
      "image/png": "[encoded data removed]",
      "text/plain": [
       "<Figure size 432x288 with 1 Axes>"
      ]
     },
     "metadata": {},
     "output_type": "display_data"
    }
   ],
   "source": [
    "fig,axes = plt.subplots(1,samples,figsize=(3*samples,3),sharey=True,\n",
    "                        gridspec_kw=dict(wspace=0),subplot_kw=dict(frameon=False))\n",
    "fig2,ax2=plt.subplots(1,1)\n",
    "\n",
    "colors = '0.6','b','r','k','c'\n",
    "ax2.plot(xdata,ypred,color='r',lw=2,zorder=100,label='Regression')\n",
    "ax2.plot(xdata,xdata,color='k',ls='--',lw=2,zorder=99,label='Underlying truth')\n",
    "\n",
    "ax2.set_xticks([])\n",
    "ax2.set_yticks([])\n",
    "\n",
    "ax2.set_xlabel('The X values',size=15)\n",
    "ax2.set_ylabel('The Y values',size=15)\n",
    "\n",
    "ax2.spines['right'].set_visible(False)\n",
    "ax2.spines['top'].set_visible(False)\n",
    "\n",
    "for ax in axes:\n",
    "    ax.spines['right'].set_visible(False)\n",
    "    ax.spines['left'].set_visible(False)\n",
    "    ax.spines['top'].set_visible(False)\n",
    "axes[0].spines['left'].set_visible(True)\n",
    "\n",
    "for plot_num,(color,yboot) in enumerate(zip(colors,boot_data.T)):\n",
    "    \n",
    "    yb = yboot[:,np.newaxis]\n",
    "    \n",
    "    #fig,ax = plt.subplots(1,1)\n",
    "    regr.fit(xdata,yb)\n",
    "    ypb = regr.predict(xdata)\n",
    "    \n",
    "    #print('{},{}'.format(plot_num-1,plot_num+1))\n",
    "    \n",
    "    for ax in axes[[plot_num-1,plot_num]]:\n",
    "        ax.scatter(xdata,yb,color=color)\n",
    "        ax.plot(xdata,ypb,color=color)\n",
    "        ax.set_xticks([])\n",
    "    if color=='k':\n",
    "        ax2.plot(xdata,ypb,color=color,ls=':',label='Bootstrap regression')\n",
    "    else:\n",
    "        ax2.plot(xdata,ypb,color=color,ls=':')\n",
    "\n",
    "ax = axes[0]\n",
    "ax.set_yticks([])\n",
    "ax.set_ylabel('The Y values')\n",
    "ax = axes[2]\n",
    "ax.set_xlabel('The X values')\n",
    "\n",
    "\n",
    "ax2.legend()\n"
   ]
  },
  {
   "cell_type": "raw",
   "metadata": {
    "raw_mimetype": "text/restructuredtext"
   },
   "source": [
    "Using the toolbox\n",
    "-----------------\n",
    "\n",
    "Now do the same thing with 1000 samples. This time we'll just use the :py:func:`.bootstrap` function, and we can just drop the data straight in."
   ]
  },
  {
   "cell_type": "code",
   "execution_count": 12,
   "metadata": {
    "ExecuteTime": {
     "end_time": "2019-05-17T18:48:04.531192Z",
     "start_time": "2019-05-17T18:48:04.045397Z"
    }
   },
   "outputs": [
    {
     "name": "stdout",
     "output_type": "stream",
     "text": [
      "No transform function, skipping scores\n"
     ]
    },
    {
     "data": {
      "application/vnd.jupyter.widget-view+json": {
       "model_id": "9864e4566c404de198f7373e83cfb6e9",
       "version_major": 2,
       "version_minor": 0
      },
      "text/plain": [
       "HBox(children=(IntProgress(value=0, max=1000), HTML(value='')))"
      ]
     },
     "metadata": {},
     "output_type": "display_data"
    },
    {
     "name": "stdout",
     "output_type": "stream",
     "text": [
      "\n"
     ]
    }
   ],
   "source": [
    "samples = 1000\n",
    "\n",
    "lbt_out = plu.bootstrap(xdata=xdata,ydata=np.squeeze(ydata),\n",
    "                        PLS_model=regr,cv_object=cv,samples=samples)\n",
    "rcv,ecv,msecv,cpb,cpt = lbt_out"
   ]
  },
  {
   "cell_type": "raw",
   "metadata": {
    "raw_mimetype": "text/restructuredtext"
   },
   "source": [
    "Plot the bootstrap results and show that the bootstrap uncertainty exactly reproduces the results of the linear regression uncertainty."
   ]
  },
  {
   "cell_type": "code",
   "execution_count": 13,
   "metadata": {
    "ExecuteTime": {
     "end_time": "2019-05-17T18:48:06.941223Z",
     "start_time": "2019-05-17T18:48:04.533485Z"
    }
   },
   "outputs": [
    {
     "data": {
      "image/png": "[encoded data removed]",
      "text/plain": [
       "<Figure size 432x288 with 1 Axes>"
      ]
     },
     "metadata": {},
     "output_type": "display_data"
    }
   ],
   "source": [
    "fig2,ax2=plt.subplots(1,1)\n",
    "\n",
    "for ypb in cpb.T:\n",
    "    ax2.plot(xdata,ypb,color='0.6',ls=':',zorder=0)\n",
    "\n",
    "\n",
    "intervals = np.array([np.percentile(cpb,97.5,axis=1), np.percentile(cpb,2.5,axis=1)])\n",
    "\n",
    "ax2.plot(xdata,ypred,color='r',lw=3,label='Regression',zorder=3)\n",
    "ax2.plot(xdata,yunc,ls='--',color='r',lw=3,label='95% CI (regression)',zorder=3)\n",
    "ax2.plot(xdata,ypb,color='0.6',ls=':',label='Bootstrap',zorder=-1)\n",
    "\n",
    "ax2.plot(xdata,intervals.T,ls=':',color='k',lw=3,label='95% CI (boot)',zorder=4)\n",
    "\n",
    "ax2.scatter(xdata,ydata,color='k',label='Measurement',zorder=5)\n",
    "\n",
    "ax2.set_xlabel('The X values',size=15)\n",
    "ax2.set_ylabel('The Y values',size=15)\n",
    "\n",
    "ax2.set_xticks([])\n",
    "ax2.set_yticks([])\n",
    "\n",
    "\n",
    "ax2.spines['right'].set_visible(False)\n",
    "ax2.spines['top'].set_visible(False)\n",
    "\n",
    "#ax2.legend()\n",
    "\n",
    "handles, labels = ax2.get_legend_handles_labels()\n",
    "\n",
    "ax2.legend([handles[i] for i in [0,3,1,4,6]],[labels[i] for i in [0,3,1,4,6]])\n",
    "\n",
    "t = 1"
   ]
  },
  {
   "cell_type": "code",
   "execution_count": 19,
   "metadata": {
    "ExecuteTime": {
     "end_time": "2019-05-17T20:10:33.269196Z",
     "start_time": "2019-05-17T20:10:33.261786Z"
    }
   },
   "outputs": [
    {
     "data": {
      "text/plain": [
       "array([[ 0.05517332, -0.07119444],\n",
       "       [ 0.04859221, -0.07239128],\n",
       "       [ 0.04367514, -0.07150052],\n",
       "       [ 0.03899877, -0.06750441],\n",
       "       [ 0.03571097, -0.06393831],\n",
       "       [ 0.03378349, -0.06408298],\n",
       "       [ 0.03268463, -0.0641478 ],\n",
       "       [ 0.0320849 , -0.05605043],\n",
       "       [ 0.02810861, -0.05347956],\n",
       "       [ 0.02607774, -0.04879635],\n",
       "       [ 0.02441205, -0.04826689],\n",
       "       [ 0.02056211, -0.04383436],\n",
       "       [ 0.02974614, -0.03918142],\n",
       "       [ 0.03018288, -0.03818425],\n",
       "       [ 0.02962705, -0.0386364 ],\n",
       "       [ 0.03222273, -0.03462113],\n",
       "       [ 0.02910533, -0.04496108],\n",
       "       [ 0.02638041, -0.04974504],\n",
       "       [ 0.02177912, -0.06107879],\n",
       "       [ 0.0221806 , -0.06052196],\n",
       "       [ 0.02193362, -0.07153582],\n",
       "       [ 0.02760917, -0.07829497],\n",
       "       [ 0.02603908, -0.08102588],\n",
       "       [ 0.03044203, -0.07441155],\n",
       "       [ 0.03120508, -0.08133688],\n",
       "       [ 0.03661673, -0.08065974],\n",
       "       [ 0.04128581, -0.09088041],\n",
       "       [ 0.04174182, -0.09245988]])"
      ]
     },
     "execution_count": 19,
     "metadata": {},
     "output_type": "execute_result"
    }
   ],
   "source": [
    "(yunc-intervals[::-1].T)/np.array()"
   ]
  },
  {
   "cell_type": "code",
   "execution_count": 20,
   "metadata": {
    "ExecuteTime": {
     "end_time": "2019-05-17T20:12:13.623175Z",
     "start_time": "2019-05-17T20:12:13.615689Z"
    }
   },
   "outputs": [
    {
     "data": {
      "text/plain": [
       "array([[3.71767288, 4.37933362],\n",
       "       [3.94497224, 4.55768536],\n",
       "       [4.05829695, 4.6471862 ],\n",
       "       [4.25035031, 4.79993627],\n",
       "       [4.37415123, 4.89924345],\n",
       "       [4.39661578, 4.91734401],\n",
       "       [4.40784259, 4.92639976],\n",
       "       [4.64267299, 5.11750301],\n",
       "       [4.89739123, 5.32928352],\n",
       "       [5.10528299, 5.50676031],\n",
       "       [5.31028956, 5.68712228],\n",
       "       [5.46970686, 5.83194329],\n",
       "       [5.71961028, 6.0688212 ],\n",
       "       [5.81155514, 6.15941933],\n",
       "       [5.82171001, 6.16954701],\n",
       "       [5.93260462, 6.28176051],\n",
       "       [6.21808602, 6.58447319],\n",
       "       [6.34309684, 6.72313558],\n",
       "       [6.55113315, 6.96131548],\n",
       "       [6.56049628, 6.97223491],\n",
       "       [6.77396972, 7.22526023],\n",
       "       [6.89325358, 7.36964958],\n",
       "       [6.93890941, 7.42540652],\n",
       "       [7.17465814, 7.71700421],\n",
       "       [7.30064121, 7.87497691],\n",
       "       [7.41714376, 8.02214758],\n",
       "       [7.58672167, 8.2379382 ],\n",
       "       [7.70234924, 8.38598384]])"
      ]
     },
     "execution_count": 20,
     "metadata": {},
     "output_type": "execute_result"
    }
   ],
   "source": [
    "yunc"
   ]
  },
  {
   "cell_type": "code",
   "execution_count": 22,
   "metadata": {
    "ExecuteTime": {
     "end_time": "2019-05-17T20:12:29.464048Z",
     "start_time": "2019-05-17T20:12:29.456844Z"
    }
   },
   "outputs": [
    {
     "data": {
      "text/plain": [
       "array([[4.45052806, 3.66249957],\n",
       "       [4.63007664, 3.89638003],\n",
       "       [4.71868672, 4.01462181],\n",
       "       [4.86744068, 4.21135154],\n",
       "       [4.96318176, 4.33844026],\n",
       "       [4.98142699, 4.36283229],\n",
       "       [4.99054756, 4.37515796],\n",
       "       [5.17355344, 4.61058809],\n",
       "       [5.38276308, 4.86928262],\n",
       "       [5.55555665, 5.07920525],\n",
       "       [5.73538917, 5.28587751],\n",
       "       [5.87577766, 5.44914475],\n",
       "       [6.10800262, 5.68986414],\n",
       "       [6.19760358, 5.78137226],\n",
       "       [6.20818341, 5.79208296],\n",
       "       [6.31638164, 5.90038189],\n",
       "       [6.62943427, 6.18898069],\n",
       "       [6.77288062, 6.31671643],\n",
       "       [7.02239427, 6.52935402],\n",
       "       [7.03275687, 6.53831568],\n",
       "       [7.29679604, 6.75203609],\n",
       "       [7.44794454, 6.86564441],\n",
       "       [7.5064324 , 6.91287033],\n",
       "       [7.79141576, 7.14421611],\n",
       "       [7.95631379, 7.26943614],\n",
       "       [8.10280731, 7.38052702],\n",
       "       [8.32881861, 7.54543586],\n",
       "       [8.47844373, 7.66060742]])"
      ]
     },
     "execution_count": 22,
     "metadata": {},
     "output_type": "execute_result"
    }
   ],
   "source": [
    "intervals.T"
   ]
  },
  {
   "cell_type": "code",
   "execution_count": 23,
   "metadata": {
    "ExecuteTime": {
     "end_time": "2019-05-17T20:36:49.251749Z",
     "start_time": "2019-05-17T20:36:49.245348Z"
    }
   },
   "outputs": [],
   "source": [
    "samples = 1000\n",
    "\n",
    "residual_boot,boot_indices = plu.bootstrap_data(residual_weighted,samples=samples)\n",
    "residual_boot = np.squeeze(residual_boot)\n",
    "\n",
    "boot_data = (residual_boot + ypred).T \n",
    "#boot_data now has the new Y values with shuffled residuals"
   ]
  },
  {
   "cell_type": "code",
   "execution_count": 25,
   "metadata": {
    "ExecuteTime": {
     "end_time": "2019-05-17T20:37:01.858458Z",
     "start_time": "2019-05-17T20:37:01.852630Z"
    }
   },
   "outputs": [
    {
     "data": {
      "text/plain": [
       "(1000, 28)"
      ]
     },
     "execution_count": 25,
     "metadata": {},
     "output_type": "execute_result"
    }
   ],
   "source": [
    "boot_data.T.shape"
   ]
  },
  {
   "cell_type": "code",
   "execution_count": 30,
   "metadata": {
    "ExecuteTime": {
     "end_time": "2019-05-17T20:38:07.834845Z",
     "start_time": "2019-05-17T20:38:04.862012Z"
    }
   },
   "outputs": [
    {
     "data": {
      "image/png": "[encoded data removed]",
      "text/plain": [
       "<Figure size 432x288 with 1 Axes>"
      ]
     },
     "metadata": {},
     "output_type": "display_data"
    }
   ],
   "source": [
    "for row in boot_data.T:\n",
    "    plt.scatter(xdata,row,s=1,color='k')"
   ]
  },
  {
   "cell_type": "code",
   "execution_count": 31,
   "metadata": {
    "ExecuteTime": {
     "end_time": "2019-05-17T20:44:33.388535Z",
     "start_time": "2019-05-17T20:44:33.378933Z"
    }
   },
   "outputs": [
    {
     "data": {
      "text/plain": [
       "array([0.56608812, 0.54231047, 0.55901546, 0.5459315 , 0.54492867,\n",
       "       0.53924983, 0.55297044, 0.58156724, 0.56166797, 0.54072041,\n",
       "       0.56269115, 0.55057405, 0.53003111, 0.53496418, 0.54839079,\n",
       "       0.54699388, 0.57489016, 0.56853126, 0.56764148, 0.55301693,\n",
       "       0.5538737 , 0.56604773, 0.56193022, 0.55383506, 0.55399726,\n",
       "       0.55522476, 0.5622612 , 0.55939004])"
      ]
     },
     "execution_count": 31,
     "metadata": {},
     "output_type": "execute_result"
    }
   ],
   "source": [
    "boot_data.T.std(axis=0)"
   ]
  },
  {
   "cell_type": "code",
   "execution_count": null,
   "metadata": {},
   "outputs": [],
   "source": []
  }
 ],
 "metadata": {
  "anaconda-cloud": {},
  "celltoolbar": "Raw Cell Format",
  "kernelspec": {
   "display_name": "Python [conda env:py3]",
   "language": "python",
   "name": "conda-env-py3-py"
  },
  "language_info": {
   "codemirror_mode": {
    "name": "ipython",
    "version": 3
   },
   "file_extension": ".py",
   "mimetype": "text/x-python",
   "name": "python",
   "nbconvert_exporter": "python",
   "pygments_lexer": "ipython3",
   "version": "3.6.5"
  },
  "toc": {
   "base_numbering": 1,
   "nav_menu": {},
   "number_sections": true,
   "sideBar": true,
   "skip_h1_title": false,
   "title_cell": "Table of Contents",
   "title_sidebar": "Contents",
   "toc_cell": false,
   "toc_position": {},
   "toc_section_display": "block",
   "toc_window_display": false
  }
 },
 "nbformat": 4,
 "nbformat_minor": 2
}
